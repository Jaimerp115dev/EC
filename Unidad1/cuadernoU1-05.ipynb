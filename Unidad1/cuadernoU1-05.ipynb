{
 "cells": [
  {
   "metadata": {},
   "cell_type": "markdown",
   "source": "# 5. Constantes. Operadores. Conversión de tipos",
   "id": "327585fee6119dc0"
  },
  {
   "metadata": {},
   "cell_type": "markdown",
   "source": [
    "## 5.1 Constantes\n",
    "En Python, no hay soporte nativo para las constantes, pero se pueden definir por convención con nombres en mayúsculas:"
   ],
   "id": "f065dc6362bca78a"
  },
  {
   "metadata": {},
   "cell_type": "code",
   "source": [
    "PI = 3.14159\n",
    "VELOCIDAD_LUZ = 299_792_458  # Esta forma de escribir esta cifra grande mejora la legibilidad\n",
    "MAX_INTENTS = 5"
   ],
   "id": "3cbb1cc5c9f002cc",
   "outputs": [],
   "execution_count": null
  },
  {
   "metadata": {},
   "cell_type": "markdown",
   "source": "Python no impide modificar estas constantes:",
   "id": "62a1d9151fd72901"
  },
  {
   "metadata": {},
   "cell_type": "code",
   "source": "PI = 3 # Está permitido, pero no está recomendado",
   "id": "6857e53080d65144",
   "outputs": [],
   "execution_count": null
  },
  {
   "metadata": {},
   "cell_type": "markdown",
   "source": "También puedes colocarlos en un módulo separado llamado, por ejemplo, 'constantes.py':",
   "id": "99f374bcc8fe195d"
  },
  {
   "metadata": {},
   "cell_type": "code",
   "source": [
    "# constantes.py\n",
    "PI = 3.14159\n",
    "G = 9.81"
   ],
   "id": "c0d6fb4bb19fee56",
   "outputs": [],
   "execution_count": null
  },
  {
   "metadata": {},
   "cell_type": "markdown",
   "source": "...e importarlos desde el archivo principal:",
   "id": "413198948ae93ae4"
  },
  {
   "metadata": {},
   "cell_type": "code",
   "source": [
    "import constantes\n",
    "print(constants.PI)"
   ],
   "id": "a3db52a396e0932",
   "outputs": [],
   "execution_count": null
  },
  {
   "metadata": {},
   "cell_type": "markdown",
   "source": [
    "#### Inmutabilidad en Python\n",
    "\n",
    "En Python, la inmutabilidad significa que un objeto no puede ser modificado después de que se crea.\n",
    "No es el mismo concepto que CONSTANT.\n",
    "\n",
    "Se verá un poco más adelante para las cadenas de caracteres."
   ],
   "id": "d298484ab019fa5f"
  },
  {
   "metadata": {},
   "cell_type": "markdown",
   "source": [
    "## 5.2 Operadores en Python\n",
    "### ¿Qué es un literal?\n",
    "Un literal es un valor escrito directamente en el código. Ejemplos:"
   ],
   "id": "66c605de6e1abecb"
  },
  {
   "metadata": {},
   "cell_type": "code",
   "source": [
    "42\n",
    "\"Hola\"\n",
    "3.14\n",
    "True\n",
    "[1, 2, 3]"
   ],
   "id": "106c78c4bbaa1c2",
   "outputs": [],
   "execution_count": null
  },
  {
   "metadata": {},
   "cell_type": "markdown",
   "source": [
    "###  ¿Qué es una expresión?\n",
    "\n",
    "Una expresión es cualquier combinación de literales, variables y operadores que devuelve un valor:"
   ],
   "id": "13a888269fc404f3"
  },
  {
   "metadata": {},
   "cell_type": "code",
   "source": [
    "5 + 3\n",
    "nombre + \" está aquí\"\n",
    "len([1, 2, 3])\n",
    "a * b - c"
   ],
   "id": "10e5cb5220f078f8",
   "outputs": [],
   "execution_count": null
  },
  {
   "metadata": {},
   "cell_type": "markdown",
   "source": [
    "### Operadores aritméticos\n",
    "Los operadores aritméticos permiten realizar operaciones matemáticas básicas."
   ],
   "id": "9f577e4a56bcaa18"
  },
  {
   "metadata": {},
   "cell_type": "code",
   "source": [
    "suma = 10 + 5              # 15\n",
    "resta = 10 - 5             # 5\n",
    "multiplicación = 10 * 5    # 50\n",
    "división = 10 / 5          # 2.0  NO ENTERO, decimal o float\n",
    "división_entera = 10 // 3  # 3 (enter)\n",
    "módulo_división = 10 % 3   # 1 (resto de la división)\n",
    "potencia = 2 ** 3          # 8 (2 elevado a 3) int\n",
    "potencia = 2 ** -3         # 0,125 (2 elevado a -3) float\n",
    "potencia = 2.2 ** 3        # 10.64800  float\n",
    "potencia = 64 ** 0.5       # 8.0 (raíz cuadrada) float"
   ],
   "id": "e631f5da797fbd2f",
   "outputs": [],
   "execution_count": null
  },
  {
   "metadata": {},
   "cell_type": "markdown",
   "source": [
    "### Precedencia de los operadores\n",
    "Ejemplos:"
   ],
   "id": "ef038d489ccb292c"
  },
  {
   "metadata": {},
   "cell_type": "code",
   "source": [
    "resultado = 3 + 4 * 2         #  11\n",
    "resultado = (3 + 4) * 2       #  14\n",
    "resultado = 2 ** 3 ** 2       #  512\n",
    "resultado = (2 ** 3) ** 2     #  64\n",
    "resultado = -3 ** 2           # -(3 ** 2) = -9\n",
    "resultado = (-3) ** 2         # (-3) ** 2 = 9"
   ],
   "id": "947422de103f1058",
   "outputs": [],
   "execution_count": null
  },
  {
   "metadata": {},
   "cell_type": "markdown",
   "source": [
    "### Operadores de asignación\n",
    "Los operadores de comparación se utilizan para comparar dos valores."
   ],
   "id": "b222c509c2ff768a"
  },
  {
   "metadata": {},
   "cell_type": "code",
   "source": [
    "5 == 5    # True (igual)     ¡¡ el '==' no es lo mismo que el '=' !!\n",
    "5 != 3    # True (diferente)\n",
    "5 < 10    # True (menor que)\n",
    "5 > 10    # False (mayor que)\n",
    "5 <= 10   # True (menor o igual que)\n",
    "5 >= 10   # False (mayor o igual que)"
   ],
   "id": "7fecfc08ffae53a6",
   "outputs": [],
   "execution_count": null
  },
  {
   "metadata": {},
   "cell_type": "markdown",
   "source": [
    "En Python, el operador '<>' fue utilizado como operador de desigualdad (como '!=') en versiones anteriores de Python (como Python 2).\n",
    "El uso de '<>' ya no es válido y, si lo empleamos, obtendremos un error de sintaxis. Para comparar las desigualdades, solo se usa '!='."
   ],
   "id": "371354ecdb90999a"
  },
  {
   "metadata": {},
   "cell_type": "markdown",
   "source": [
    "### Operadores Lógicos\n",
    "Los operadores de lógica se utilizan para combinar expresiones booleanas:"
   ],
   "id": "d9742c4b53269bcd"
  },
  {
   "metadata": {},
   "cell_type": "code",
   "source": [
    "True and False   # False\n",
    "True or False    # True\n",
    "not True         # False"
   ],
   "id": "94596d17e827f2b8",
   "outputs": [],
   "execution_count": null
  },
  {
   "metadata": {},
   "cell_type": "markdown",
   "source": "La precedencia para estos operadores viene establecida por este orden: 'not', 'and', 'or'.",
   "id": "648a7af4c197ee8f"
  },
  {
   "metadata": {},
   "cell_type": "markdown",
   "source": [
    "### Operadores de identidad\n",
    "Los operadores de identidad comprueban si dos variables se refieren al mismo objeto de memoria:"
   ],
   "id": "a0bd9c28687cf60e"
  },
  {
   "metadata": {},
   "cell_type": "code",
   "source": [
    "a = 5\n",
    "b = a\n",
    "a is b"
   ],
   "id": "90488d9ffc914ced",
   "outputs": [],
   "execution_count": null
  },
  {
   "metadata": {},
   "cell_type": "code",
   "source": "a is not b",
   "id": "3e8250631f8b7400",
   "outputs": [],
   "execution_count": null
  },
  {
   "metadata": {},
   "cell_type": "markdown",
   "source": [
    "### Operadores de pertenencia o membresía\n",
    "Los operadores de membresía se utilizan para comprobar si un elemento está presente en una colección, como una cadena, lista, etc."
   ],
   "id": "c81ee3f27e9188bb"
  },
  {
   "metadata": {},
   "cell_type": "code",
   "source": "'a' in 'hola'      # True",
   "id": "2352c05f687fb09c",
   "outputs": [],
   "execution_count": null
  },
  {
   "metadata": {},
   "cell_type": "code",
   "source": "'a' not in 'hola'  # False",
   "id": "c630fbda70cb7a29",
   "outputs": [],
   "execution_count": null
  },
  {
   "metadata": {},
   "cell_type": "markdown",
   "source": [
    "### Operadores a nivel de bits (bitwise)\n",
    "Los operadores bitwise operan en los bits individuales de las variables:"
   ],
   "id": "21dc300979f44f25"
  },
  {
   "metadata": {},
   "cell_type": "code",
   "source": [
    "5  &  3   # AND bit a bit\n",
    "5 | 3     # OR bit a bit\n",
    "~ 3       # NOT bit a bit\n",
    "5 ^ 3     # XOR bit a bit\n",
    "5 << 3    # desplazamiento a la izquierda bit a bit (tres posiciones)\n",
    "5 >> 3    # desplazamiento a la derecha bit a bit (tres posiciones)"
   ],
   "id": "5d6225dd32fafae2",
   "outputs": [],
   "execution_count": null
  },
  {
   "metadata": {},
   "cell_type": "markdown",
   "source": [
    "### Problemas de precisión con los números decimales\n",
    "Debido a la representación interna de los números decimales, se pueden obtener resultados inexactos en algunas operaciones:"
   ],
   "id": "eff81529a3d56a48"
  },
  {
   "metadata": {},
   "cell_type": "code",
   "source": [
    "a = 0.1\n",
    "b = 0.2\n",
    "print(a + b)    # 0.30000000000000004"
   ],
   "id": "15bb78b94cea0d15",
   "outputs": [],
   "execution_count": null
  },
  {
   "metadata": {},
   "cell_type": "markdown",
   "source": [
    "En general, cualquier fracción que en base 10 esté \"limpia\" (como 0.1 o 0.2) puede ser problemática, porque en base 2 son fracciones periódicas infinitas, y Python las trunca para aproximarlas.\n",
    "\n",
    "Este problema no se produce en todas las operaciones, pero es importante tenerlo en cuenta. Para comparar estos valores con precisión, puedes utilizar 'math.isclose()':"
   ],
   "id": "2c11cff2e7cd90ee"
  },
  {
   "metadata": {},
   "cell_type": "code",
   "source": [
    "import math\n",
    "math.isclose(0.1 + 0.2, 0.3)  # True"
   ],
   "id": "5b0ad46a755c0b55",
   "outputs": [],
   "execution_count": null
  },
  {
   "metadata": {},
   "cell_type": "markdown",
   "source": "O simplemente emplear 'round()':",
   "id": "1550f4d82d12bec5"
  },
  {
   "metadata": {},
   "cell_type": "code",
   "source": "print (round(0.1 + 0.2, 2))  # Redondea el resultado de la suma a las centésimas",
   "id": "24f1f062d226b2e",
   "outputs": [],
   "execution_count": null
  },
  {
   "metadata": {},
   "cell_type": "markdown",
   "source": [
    "## 5.2 Operadores sobre Strings en Python\n",
    "### Definir Strings\n",
    "Ya vimos que se pueden definir cadenas de texto utilizando comillas simples ('), dobles (\") o triples (''' o \"\"\"):"
   ],
   "id": "6830f606756cf43d"
  },
  {
   "metadata": {},
   "cell_type": "code",
   "source": [
    "s = 'Hola'\n",
    "s2 = \"Mundo\"\n",
    "s3 = ''' Hola mundo, con\n",
    "más de una línea '''"
   ],
   "id": "74be69057eefca",
   "outputs": [],
   "execution_count": null
  },
  {
   "metadata": {},
   "cell_type": "markdown",
   "source": [
    "### Concatenación de Strings\n",
    "La concatenación permite que dos o más cadenas de texto se unan entre sí:"
   ],
   "id": "4a4f196ab36b48fd"
  },
  {
   "metadata": {},
   "cell_type": "code",
   "source": [
    "saludo = \"Hola\" + \" \" + \"mundo\"\n",
    "print(saludo)  # Hola mundo"
   ],
   "id": "703d9fff7a0c1f1a",
   "outputs": [],
   "execution_count": null
  },
  {
   "metadata": {},
   "cell_type": "markdown",
   "source": [
    "### Repetición de Strings\n",
    "La repetición de una cadena puede conseguirse con el operador de multiplicación."
   ],
   "id": "6334386c80854ab0"
  },
  {
   "metadata": {},
   "cell_type": "code",
   "source": "print(\"Hola\" * 3)  # HolaHolaHola",
   "id": "430e864fa107c002",
   "outputs": [],
   "execution_count": null
  },
  {
   "metadata": {},
   "cell_type": "markdown",
   "source": [
    "### Comparación de cadenas\n",
    "Las cadenas se pueden comparar con estos operadores (distinguen las mayúsculas de las minúsculas):"
   ],
   "id": "e9c5338ca2375672"
  },
  {
   "metadata": {},
   "cell_type": "code",
   "source": [
    "print(\"Hola\" == \"hola\")  # False (distinción de mayúsculas/minúsculas)\n",
    "print(\"a\" < \"b\")         # True (orden alfabético)  También se puede hacer con '>' o '!='"
   ],
   "id": "aee1f51dc20e72a2",
   "outputs": [],
   "execution_count": null
  },
  {
   "metadata": {},
   "cell_type": "markdown",
   "source": [
    "### Longitud de las cadenas\n",
    "Las cadenas tienen una longitud, y puede ser muy útil conocerla:"
   ],
   "id": "66c64eb7bf4e75d"
  },
  {
   "metadata": {},
   "cell_type": "code",
   "source": [
    "cadena = 'Hola Python'\n",
    "x = len(cadena)\n",
    "print ( f\"La cadena tiene una longitud de {x} caracteres \")"
   ],
   "id": "82c37a0bfdbc7930",
   "outputs": [],
   "execution_count": null
  },
  {
   "metadata": {},
   "cell_type": "markdown",
   "source": [
    "### Acceso por índice\n",
    "Puedes acceder a caracteres individuales de una cadena usando su índice. Recuerda que el índice comienza desde 0. También puede indicar el final con un -1 (último carácter):"
   ],
   "id": "557323580c471bd4"
  },
  {
   "metadata": {},
   "cell_type": "code",
   "source": [
    "texto = \"Python\"\n",
    "print(texto[0])  # P\n",
    "print(texto[-1])  # n (último carácter)"
   ],
   "id": "54ad0969fff98b18",
   "outputs": [],
   "execution_count": null
  },
  {
   "metadata": {},
   "cell_type": "markdown",
   "source": "Pero no es posible hacer asignaciones sobre caracteres individuales:",
   "id": "5e2225fa6da47b54"
  },
  {
   "metadata": {},
   "cell_type": "code",
   "source": "texto[0]=\"p\"  # Da error",
   "id": "55da7d9f79ce74e5",
   "outputs": [],
   "execution_count": null
  },
  {
   "metadata": {},
   "cell_type": "markdown",
   "source": [
    "### Acceso por Slicing (rodajas)\n",
    "Las 'rodajas' permiten extraer subcadenas utilizando un rango de índices:"
   ],
   "id": "42dc4bcda7d27976"
  },
  {
   "metadata": {},
   "cell_type": "code",
   "source": [
    "print(texto[0:4])  # Pyth (índices de 0 a 3)\n",
    "print(texto[::2])  # Pto (caracteres del 0 al 5 de 2 en 2)\n",
    "print(texto[1:4:2])  # yh (caracteres 1 al 3 de 2 en 2)\n",
    "print(texto[:3])  # Hol (desde el principio hasta finalizar en el índice 2)\n",
    "print(texto[2:])  # thon (desde el índice 2 hasta el final)\n",
    "print(texto[:-2])  # Pyth (desde el principio hasta finalizar en el índice -3)\n",
    "print(texto[-3:])  # hon (desde -3 hasta el final)"
   ],
   "id": "482487f88671e6a7",
   "outputs": [],
   "execution_count": null
  },
  {
   "metadata": {},
   "cell_type": "markdown",
   "source": [
    "### Iteraciones en Strings\n",
    "Podemos recorrer una cadena carácter a carácter usando un bucle 'for'.\n",
    "\n",
    "Ejemplo simple:"
   ],
   "id": "dbebdb1ad6e3a27b"
  },
  {
   "metadata": {},
   "cell_type": "code",
   "source": [
    "texto = \"Python\"\n",
    "for letra in texto:\n",
    "    print(letra)"
   ],
   "id": "4cae5e8d4eb42ac0",
   "outputs": [],
   "execution_count": null
  },
  {
   "metadata": {},
   "cell_type": "markdown",
   "source": "Ejemplo animado:",
   "id": "8efe6aaeebfb86c1"
  },
  {
   "metadata": {},
   "cell_type": "code",
   "source": [
    "import time\n",
    "\n",
    "def escribe_palabra (palabra, retardo = 0.3):\n",
    "    for letra in palabra:\n",
    "        print(letra, end = \"\", flush = True)\n",
    "        time.sleep(retardo)\n",
    "    print()  # Salto de línea al final\n",
    "\n",
    "# Ejemplo de uso\n",
    "escribe_palabra(\"¡Hola a todos! Estoy escribiendo código en Python.\", 0.1)"
   ],
   "id": "8cd0d2f0c2c706fd",
   "outputs": [],
   "execution_count": null
  },
  {
   "metadata": {},
   "cell_type": "markdown",
   "source": [
    "### Inmutabilidad de las cadenas\n",
    "Las cadenas de texto de Python son inmutables, lo que significa que no se pueden modificar después de su creación:"
   ],
   "id": "67fb42aad06d7251"
  },
  {
   "metadata": {},
   "cell_type": "code",
   "source": "texto[0] = 'J'",
   "id": "6c570d2c5fdcf008",
   "outputs": [],
   "execution_count": null
  },
  {
   "metadata": {},
   "cell_type": "markdown",
   "source": [
    "## 5.3 Conversiones de tipos en Python\n",
    "En Python, la conversión de tipos (también llamada casting) se refiere a la transformación de un valor de un tipo de datos a otro tipo de datos. Por ejemplo, convertir un número en una cadena de texto, o una cadena de texto en un número.\n",
    "### Conversión implícita\n",
    "Python a veces convierte automáticamente los tipos cuando no hay pérdida de información al hacer la transformación:"
   ],
   "id": "7f21885a8aeb226f"
  },
  {
   "metadata": {},
   "cell_type": "code",
   "source": [
    "entero = 5\n",
    "decimal = 2.5\n",
    "resultado = entero + decimal\n",
    "print(resultado)            # 7.5\n",
    "print(type(resultado))      # <class 'float'>"
   ],
   "id": "efb6e8ef584ef867",
   "outputs": [],
   "execution_count": null
  },
  {
   "metadata": {},
   "cell_type": "markdown",
   "source": [
    "Aquí, Python convierte automáticamente el entero (int) a real (float) para hacer la suma.\n",
    "\n",
    "### Conversión explícita\n",
    "Se realiza manualmente con funciones como:\n",
    "- int(), conversión a entero\n",
    "- float(), conversión a decimal\n",
    "- str(), conversión a cadena de texto\n",
    "- bool(), conversión a booleano (True o False)\n",
    "\n",
    "### Ejemplos:\n",
    "#### De una cadena de caracteres a un número:"
   ],
   "id": "fdf5db00f9a4bb8c"
  },
  {
   "metadata": {},
   "cell_type": "code",
   "source": [
    "numero = int(\"10\")         # ahora es 10 (int)\n",
    "decimal = float(\"3.14\")    # ahora es 3.14 (float)"
   ],
   "id": "8c08959b13181773",
   "outputs": [],
   "execution_count": null
  },
  {
   "metadata": {},
   "cell_type": "markdown",
   "source": "#### De un número a una cadena de caracteres:",
   "id": "cb02a66898086df"
  },
  {
   "metadata": {},
   "cell_type": "code",
   "source": "text = str(123)            # \"123\"",
   "id": "4596b347a1ede934",
   "outputs": [],
   "execution_count": null
  },
  {
   "metadata": {},
   "cell_type": "markdown",
   "source": " > ⚠️ Cuidado con intentar convertir una cadena de texto que no representa un número válido:",
   "id": "839cdc9ded2332d1"
  },
  {
   "metadata": {},
   "cell_type": "code",
   "source": "int(\"hola\")    # ValueError",
   "id": "5d201a0bee3ada12",
   "outputs": [],
   "execution_count": null
  },
  {
   "metadata": {},
   "cell_type": "markdown",
   "source": "#### De un número a un booleano:",
   "id": "95fca20ab70cd2ad"
  },
  {
   "metadata": {},
   "cell_type": "code",
   "source": [
    "print(bool(0))        # False\n",
    "print(bool(5))        # True\n",
    "print(bool(0.0))      # False"
   ],
   "id": "d46cd3ae3b796b9b",
   "outputs": [],
   "execution_count": null
  },
  {
   "metadata": {},
   "cell_type": "markdown",
   "source": "#### De una cadena de caracteres a un booleano:",
   "id": "32b0aed1c37819c2"
  },
  {
   "metadata": {},
   "cell_type": "code",
   "source": [
    "print(bool(\"\"))            # False (cadena vacía)\n",
    "print(bool(\"hola\"))        # True"
   ],
   "id": "4e5996bb0d058d91",
   "outputs": [],
   "execution_count": null
  },
  {
   "metadata": {},
   "cell_type": "markdown",
   "source": "#### Otros:",
   "id": "bcea3f342ed691a4"
  },
  {
   "metadata": {},
   "cell_type": "code",
   "source": [
    "print ( 5 + True )\n",
    "print ( True + True )\n",
    "print(int(True))"
   ],
   "id": "f18ac8b514907df7",
   "outputs": [],
   "execution_count": null
  },
  {
   "metadata": {},
   "cell_type": "markdown",
   "source": [
    "#### La función round()\n",
    "La función 'round()' no realiza conversiones, pero es muy útil para eliminar los número decimales no deseados:"
   ],
   "id": "60579f7ad4acd75e"
  },
  {
   "metadata": {},
   "cell_type": "code",
   "source": [
    "x = 1 / 3\n",
    "print( x )    # 0.3333333333333333\n",
    "y = round(x, 2)\n",
    "print (y)     # 0.33"
   ],
   "id": "8f7a635fdd85b2ab",
   "outputs": [],
   "execution_count": null
  },
  {
   "metadata": {},
   "cell_type": "markdown",
   "source": [
    "## 5.4 Ejercicios\n",
    "\n",
    "### **Ejercicios sobre operadores**\n",
    "\n",
    "#### 1. **Operadores aritméticos**\n",
    "\n",
    "* **Ejercicio 1:** Realiza una operación de suma, resta, multiplicación, división y módulo con los números 12 y 5. Muestra el resultado de cada operación.\n",
    "* **Ejercicio 2:** Calcula la raíz cuadrada de 144 usando los operadores aritméticos y la función `**`.\n",
    "* **Ejercicio 3:** Usa la operación de división entera y el módulo para dividir 23 entre 5. ¿Cuál es el cociente y el resto?\n",
    "\n",
    "#### 2. **Operadores de asignación**\n",
    "\n",
    "* **Ejercicio 4:** Usa el operador `+=` para incrementar una variable en 5 y muestra el resultado.\n",
    "* **Ejercicio 5:** Usa los operadores de asignación `-=`, `*=`, `/=`, y `**=` con una variable `x` que inicia en 10. Muestra cómo cambia `x` después de cada operación.\n",
    "\n",
    "#### 3. **Operadores de comparación**\n",
    "\n",
    "* **Ejercicio 6:** Compara dos números `a` y `b` (elige valores diferentes) usando los operadores `==`, `!=`, `>`, `<`, `>=`, `<=`. Muestra si cada comparación es `True` o `False`.\n",
    "* **Ejercicio 7:** Compara una lista y una cadena (con los mismos caracteres ambas) para ver si son iguales utilizando el operador `==`. ¿Por qué el resultado es como es?\n",
    "\n",
    "#### 4. **Operadores lógicos**\n",
    "\n",
    "* **Ejercicio 8:** Usa los operadores lógicos `and`, `or` y `not` para comprobar las condiciones en una variable booleana. Ejemplo: \"Si una persona tiene 18 años o más, y si ha terminado la secundaria, puede inscribirse en el curso\".\n",
    "\n",
    "#### 5. **Operadores de identidad (is, is not)**\n",
    "\n",
    "* **Ejercicio 9:** Crea dos listas con los mismos elementos y verifica si son la misma referencia de objeto usando `is` y `is not`. Explica el comportamiento.\n",
    "\n",
    "#### 6. **Operadores de pertenencia (in, not in)**\n",
    "\n",
    "* **Ejercicio 10:** Crea una lista de números del 1 al 10 y verifica si el número 5 está dentro de esa lista usando el operador `in`.\n",
    "* **Ejercicio 11:** Verifica si una cadena contiene una subcadena utilizando `in`. ¿Qué sucede si la subcadena no existe?\n",
    "\n",
    "#### 7. **Operadores a nivel de bits**\n",
    "\n",
    "* **Ejercicio 12:** Realiza una operación AND y OR entre dos números, por ejemplo, 7 (binario: 111) y 10 (binario: 1010).\n",
    "* **Ejercicio 13:** Usa el operador `<<` para realizar un desplazamiento a la izquierda de 3 bits en el número 5 (binario: 101).\n",
    "* **Ejercicio 14:** Realiza un ejercicio con el operador XOR (`^`) entre dos números de tu elección.\n",
    "\n",
    "#### 8. **Problemas de precisión con números reales**\n",
    "\n",
    "* **Ejercicio 15:** Realiza la suma de 0.1 + 0.7 en Python y muestra el resultado. Explica por qué el resultado no es 0.8 exactamente.\n",
    "\n",
    "---\n",
    "\n",
    "### **Ejercicios sobre cadenas**\n",
    "\n",
    "#### 9. **Concatenación de cadenas**\n",
    "\n",
    "* **Ejercicio 16:** Crea dos cadenas, `cadena1` y `cadena2`, y concaténalas para formar una nueva cadena.\n",
    "* **Ejercicio 17:** Concatenar varias cadenas usando un bucle for y el operador `+`. Prueba también la función `join()`.\n",
    "\n",
    "#### 10. **Repetición de cadenas**\n",
    "\n",
    "* **Ejercicio 18:** Usa el operador de repetición `*` para repetir una cadena un número determinado de veces.\n",
    "\n",
    "#### 11. **Comparación de cadenas**\n",
    "\n",
    "* **Ejercicio 19:** Compara dos cadenas para ver si son iguales (usa el operador `==`) y luego compara si una cadena es mayor o menor alfabéticamente.\n",
    "\n",
    "#### 12. **Longitud de cadenas**\n",
    "\n",
    "* **Ejercicio 20:** Usa la función `len()` para obtener la longitud de una cadena.\n",
    "* **Ejercicio 21:** Crea una función que calcule la longitud de una cadena sin usar `len()`.\n",
    "\n",
    "#### 13. **Acceso por índice**\n",
    "\n",
    "* **Ejercicio 22:** Accede al primer, último y un elemento intermedio de una cadena utilizando índices.\n",
    "* **Ejercicio 23:** Intenta acceder a un índice fuera del rango y maneja el error con un `try`-`except`. La excepción a manejar sería `IndexError`.\n",
    "\n",
    "#### 14. **Slicing**\n",
    "\n",
    "* **Ejercicio 24:** Utiliza slicing para obtener una subcadena de una cadena original. Intenta obtener los primeros 3 y últimos 3 caracteres de una cadena.\n",
    "* **Ejercicio 25:** Realiza un slicing inverso de una cadena (es decir, invertir la cadena).\n",
    "\n",
    "#### 15. **Iteración sobre cadenas**\n",
    "\n",
    "* **Ejercicio 26:** Usa un bucle `for` para imprimir cada carácter de una cadena por separado.\n",
    "* **Ejercicio 27:** Escribe una función que cuente cuántas veces aparece un carácter específico en una cadena.\n",
    "\n",
    "---\n",
    "\n",
    "### **Ejercicios sobre conversión de tipos**\n",
    "\n",
    "#### 16. **Conversión implícita**\n",
    "\n",
    "* **Ejercicio 28:** Realiza una operación entre un número entero y un número decimal. Muestra el resultado y explica cómo Python maneja la conversión implícita.\n",
    "\n",
    "#### 17. **Conversión explícita**\n",
    "\n",
    "* **Ejercicio 29:** Convierte un número flotante en un número entero utilizando `int()`. ¿Qué sucede con los decimales?\n",
    "* **Ejercicio 30:** Convierte una cadena que contiene un número a un número entero o flotante utilizando `int()` o `float()`. ¿Qué sucede si la cadena no es un número válido?\n",
    "* **Ejercicio 31:** Realiza una conversión explícita entre tipos `int` o `float` y `str` y muestra los resultados.\n",
    "\n",
    "#### 18. **Conversión de tipos con listas y diccionarios**\n",
    "\n",
    "* ❗**Ejercicio 32:** Convierte una lista de números en una cadena utilizando `join()`. Luego, convierte la cadena de nuevo en una lista de enteros.\n",
    "* ❗**Ejercicio 33:** Convierte un diccionario en una lista de claves y luego en una lista de valores. Puedes utilizar los métodos .keys() y .values(). Ambos métodos devuelven vistas del diccionario, que son iterables, y puedes convertirlos fácilmente en listas utilizando la función list().\n",
    "\n",
    "---\n",
    "\n",
    "### **Ejercicios combinados y adicionales**\n",
    "\n",
    "#### 19. **Ejercicio complejo**\n",
    "\n",
    "* ❗**Ejercicio 34:** Crea un programa que pida al usuario unos números separados por comas. Luego, convierte esa lista en una lista de enteros, calcula la suma y el promedio, y verifica si el promedio está en la lista. Puedes obtener una lista a partir de los números separados por coma con la función `split(',')` aplicada sobre la cadena de caracteres. Después puedes convertir cada elemento de la lista en un entero, bien recorriendo la lista elemento a elemento, bien usando una función `map(int, lista)`. Puedes sumar los elementos de la lista con la función `sum(lista)`. Cuida de calcular el promedio solo si la longitud de la lista es mayor que cero.\n",
    "\n",
    "#### 20. **Ejercicio de precisión y slicing**\n",
    "\n",
    "* ❗**Ejercicio 35:** Usa una lista de cadenas que representen números flotantes, conviértelas a flotantes y muestra los resultados con 3 decimales.\n"
   ],
   "id": "fb76029eff6abff9"
  }
 ],
 "metadata": {
  "kernelspec": {
   "display_name": "Python 3",
   "language": "python",
   "name": "python3"
  },
  "language_info": {
   "codemirror_mode": {
    "name": "ipython",
    "version": 2
   },
   "file_extension": ".py",
   "mimetype": "text/x-python",
   "name": "python",
   "nbconvert_exporter": "python",
   "pygments_lexer": "ipython2",
   "version": "2.7.6"
  }
 },
 "nbformat": 4,
 "nbformat_minor": 5
}
